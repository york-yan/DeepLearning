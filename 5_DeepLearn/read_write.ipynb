{
 "cells": [
  {
   "cell_type": "markdown",
   "metadata": {},
   "source": [
    "# 文件读写\n",
    "定期保存中间结果，避免断电等因素导致没有存上结果\n",
    "## 加载和保存张量\n",
    "- load 函数：加载文件\n",
    "- save 函数：保存文件"
   ]
  },
  {
   "cell_type": "code",
   "execution_count": 16,
   "metadata": {},
   "outputs": [
    {
     "name": "stdout",
     "output_type": "stream",
     "text": [
      "tensor([0, 1, 2, 3])\n",
      "4\n",
      "tensor([[-0.5047, -0.1791, -0.0181, -0.0140, -0.1197, -0.0886, -0.3493, -0.3044,\n",
      "          0.3395, -0.2083],\n",
      "        [-0.1517, -0.7108,  0.3556,  0.0333, -0.0869,  0.1280, -0.3427,  0.2008,\n",
      "         -0.0807,  0.3396]], grad_fn=<AddmmBackward0>)\n",
      "tensor([[-0.5047, -0.1791, -0.0181, -0.0140, -0.1197, -0.0886, -0.3493, -0.3044,\n",
      "          0.3395, -0.2083],\n",
      "        [-0.1517, -0.7108,  0.3556,  0.0333, -0.0869,  0.1280, -0.3427,  0.2008,\n",
      "         -0.0807,  0.3396]], grad_fn=<AddmmBackward0>)\n",
      "MLP(\n",
      "  (hidden): Linear(in_features=20, out_features=256, bias=True)\n",
      "  (output): Linear(in_features=256, out_features=10, bias=True)\n",
      ")\n"
     ]
    }
   ],
   "source": [
    "import torch\n",
    "from torch import nn\n",
    "from torch.nn import functional as F\n",
    "\n",
    "x=torch.arange(4)\n",
    "print (x)\n",
    "torch.save(x,'x-file') # 保存相关的变量，将其存为文件\n",
    "x2=torch.load('x-file') # 加载文件\n",
    "print(x2.__len__())\n",
    "\n",
    "class MLP(nn.Module):\n",
    "    def __init__(self):\n",
    "        super().__init__()\n",
    "        self.hidden=nn.Linear(20,256)\n",
    "        self.output=nn.Linear(256,10)\n",
    "    def forward(self,X):\n",
    "        return self.output(F.relu(self.hidden(X)))\n",
    "\n",
    "net=MLP()\n",
    "X=torch.randn(size=(2,20))\n",
    "print(net(X))\n",
    "\n",
    "# 将此时的权重保存下来\n",
    "torch.save(net.state_dict(),'mlp.params')\n",
    "\n",
    "# 加载权重\n",
    "clone=MLP()\n",
    "clone.load_state_dict(torch.load('mlp.params'))\n",
    "a=clone.eval()\n",
    "print(clone(X)) # 可以看出二者的输出是一样的\n",
    "print(a)\n"
   ]
  }
 ],
 "metadata": {
  "kernelspec": {
   "display_name": "py38",
   "language": "python",
   "name": "python3"
  },
  "language_info": {
   "codemirror_mode": {
    "name": "ipython",
    "version": 3
   },
   "file_extension": ".py",
   "mimetype": "text/x-python",
   "name": "python",
   "nbconvert_exporter": "python",
   "pygments_lexer": "ipython3",
   "version": "3.8.18"
  }
 },
 "nbformat": 4,
 "nbformat_minor": 2
}
