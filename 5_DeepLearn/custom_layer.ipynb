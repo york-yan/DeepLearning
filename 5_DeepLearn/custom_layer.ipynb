{
 "cells": [
  {
   "cell_type": "markdown",
   "metadata": {},
   "source": [
    "# 自定义层\n",
    "自定义层让深度学习网络具有很大的灵活性，通过创造性的组合，可以设计应用于各种任务的网络，有些时候可以根据自己的需求自定义相关的层"
   ]
  },
  {
   "cell_type": "code",
   "execution_count": 12,
   "metadata": {},
   "outputs": [
    {
     "data": {
      "text/plain": [
       "Parameter containing:\n",
       "tensor([[ 1.8812, -1.0276,  1.4093],\n",
       "        [-0.0203,  0.9194, -1.4456],\n",
       "        [-2.7454, -0.5801, -0.3290],\n",
       "        [ 1.0666,  0.4426, -0.3140],\n",
       "        [ 1.9843,  0.5183,  0.1408]], requires_grad=True)"
      ]
     },
     "execution_count": 12,
     "metadata": {},
     "output_type": "execute_result"
    }
   ],
   "source": [
    "import torch\n",
    "from torch import nn\n",
    "import torch.nn.functional as F\n",
    "\n",
    "\"\"\"\n",
    "不带参数的层\n",
    "\"\"\"\n",
    "class CenteredLayer(nn.Module): \n",
    "    def __init__(self):\n",
    "        super().__init__()\n",
    "    def forward(self, x):\n",
    "        return x - x.mean()\n",
    "\n",
    "layer = CenteredLayer()\n",
    "layer(torch.FloatTensor([1,2,3,4,5]))\n",
    "\n",
    "net=nn.Sequential(nn.Linear(8,128),CenteredLayer())\n",
    "Y=torch.randn(4,8)\n",
    "# net(Y)\n",
    "\n",
    "\"\"\"\"\n",
    "带参数的层\n",
    "\"\"\"\n",
    "class MyLinear(nn.Module):\n",
    "    def __init__(self, in_units, units):  # 在定义的时候需要输入参数\n",
    "        super().__init__()\n",
    "        self.weight = nn.Parameter(torch.randn(in_units, units))\n",
    "        self.bias = nn.Parameter(torch.randn(units))\n",
    "    def forward(self, X):\n",
    "        linear = torch.matmul(X, self.weight.data) + self.bias.data\n",
    "        return F.relu(linear)\n",
    "\n",
    "linear = MyLinear(5, 3)\n",
    "linear.weight\n",
    "# linear(torch.ones(5, 5))"
   ]
  },
  {
   "cell_type": "code",
   "execution_count": null,
   "metadata": {},
   "outputs": [],
   "source": []
  }
 ],
 "metadata": {
  "kernelspec": {
   "display_name": "py38",
   "language": "python",
   "name": "python3"
  },
  "language_info": {
   "codemirror_mode": {
    "name": "ipython",
    "version": 3
   },
   "file_extension": ".py",
   "mimetype": "text/x-python",
   "name": "python",
   "nbconvert_exporter": "python",
   "pygments_lexer": "ipython3",
   "version": "3.8.18"
  }
 },
 "nbformat": 4,
 "nbformat_minor": 2
}
