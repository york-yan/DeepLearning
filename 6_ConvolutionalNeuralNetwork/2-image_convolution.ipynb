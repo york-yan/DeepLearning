{
 "cells": [
  {
   "attachments": {
    "image.png": {
     "image/png": "[encoded data removed]"
    }
   },
   "cell_type": "markdown",
   "metadata": {},
   "source": [
    "# 图像卷积\n",
    "## 互相关运算\n",
    "卷积层本身是一种互相关运算\n",
    "![image.png](attachment:image.png)\n",
    "## 卷积层\n",
    "卷积层对输入和卷积核权重进行互相关运算，并在添加标量偏置之后产生输出。 所以，卷积层中的两个被训练的参数是卷积核权重和标量偏置。 就像我们之前随机初始化全连接层一样，在训练基于卷积层的模型时，我们也随机初始化卷积核权重。\n",
    "\n"
   ]
  },
  {
   "cell_type": "code",
   "execution_count": 14,
   "metadata": {},
   "outputs": [
    {
     "name": "stdout",
     "output_type": "stream",
     "text": [
      "tensor([[ 1.0000, -1.0000]])\n"
     ]
    }
   ],
   "source": [
    "import torch\n",
    "from torch import nn\n",
    "\n",
    "\"\"\"\n",
    "定义二维互相关运算\n",
    "\"\"\"\n",
    "def corr2d(X,K):\n",
    "    h,w=K.shape\n",
    "    Y=torch.zeros((X.shape[0]-h+1,X.shape[1]-w+1))\n",
    "    for i in range (Y.shape[0]):\n",
    "        for j in range (Y.shape[1]):\n",
    "            Y[i,j]=(X[i:i+h,j:j+w]*K).sum()\n",
    "    return Y\n",
    "\n",
    "X=torch.tensor([[0,1,2],[3,4,5],[6,7,8]])\n",
    "K=torch.tensor([[0,1],[2,3]])\n",
    "y=corr2d(X,K)\n",
    "\n",
    "# print(y)\n",
    "\"\"\"\n",
    "定义二维卷积层类，继承nn.Module类\n",
    "\"\"\"\n",
    "class Conv2D(nn.Module):\n",
    "    def __init__(self, kernal_size):\n",
    "        super().__init__()\n",
    "        self.weight=nn.Parameter(torch.rand(kernal_size))\n",
    "        self.bias=nn.Parameter(torch.zeros(1))\n",
    "    \n",
    "    def forward(self,X):\n",
    "        return corr2d(X,self.weight)+self.bias\n",
    "    \n",
    "class Conv2Dt(nn.Module):\n",
    "    def __init__(self,in_channels,out_channels,kernal_size,stride):\n",
    "        super(Conv2Dt,self).__init__() #显示调用父类的构造函数\n",
    "        self.conv=nn.Conv2d(in_channels,out_channels,kernal_size,stride)\n",
    "\n",
    "    def forward(self,X):\n",
    "        return self.conv(X)\n",
    "    \n",
    "x1=torch.ones((6,8))\n",
    "x1[:,2:6]=0\n",
    "# print(x1)\n",
    "\n",
    "k1=torch.tensor([[1,-1]])\n",
    "y1=corr2d(x1,k1)\n",
    "# print(y1)\n",
    "\n",
    "###############################################\n",
    "##### 学习卷积核\n",
    "###############################################\n",
    "x1=x1.reshape(1,1,6,8)\n",
    "y1=y1.reshape(1,1,6,7) # y1缩小了一列\n",
    "conv2d=nn.Conv2d(1,1,kernel_size=(1,2),bias=False)\n",
    "lr=3e-2 #设置学习率\n",
    "for i in range(100):\n",
    "    y_hat=conv2d(x1)\n",
    "    l=(y_hat-y1)**2\n",
    "    conv2d.zero_grad() #清零梯度\n",
    "    l.sum().backward() #反向传播\n",
    "    conv2d.weight.data[:]-=lr*conv2d.weight.grad\n",
    "    # if (i+1)%2==0:\n",
    "        # print(f'epoch {i+1}, loss {l.sum():.3f}')\n",
    "print(conv2d.weight.data.reshape(1,2))"
   ]
  },
  {
   "cell_type": "code",
   "execution_count": null,
   "metadata": {},
   "outputs": [],
   "source": []
  }
 ],
 "metadata": {
  "kernelspec": {
   "display_name": "py38",
   "language": "python",
   "name": "python3"
  },
  "language_info": {
   "codemirror_mode": {
    "name": "ipython",
    "version": 3
   },
   "file_extension": ".py",
   "mimetype": "text/x-python",
   "name": "python",
   "nbconvert_exporter": "python",
   "pygments_lexer": "ipython3",
   "version": "3.8.18"
  }
 },
 "nbformat": 4,
 "nbformat_minor": 2
}
