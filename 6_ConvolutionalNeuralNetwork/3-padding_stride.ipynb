{
 "cells": [
  {
   "cell_type": "markdown",
   "metadata": {},
   "source": [
    "# 填充和步幅\n",
    "conv2d的期望输入是思维的包括（批量大小、通道数、高度、宽度）\n",
    "## padding \n",
    "在边界补0，防止边缘缩小\n",
    "## stride\n",
    "步幅调整可以缩减采样的次数，跳过中间的位置\n",
    "\n",
    "## 卷积输出计算公式\n",
    "$$\\text{output\\_size} = \\frac{{\\text{input\\_size} - \\text{kernel\\_size} + 2 \\times \\text{padding}}}{{\\text{stride}}} + 1\n",
    "$$\n",
    "\n",
    "如果得到的结果不是整数，就需要调整padding或者stride,默认情况下会向下取整"
   ]
  },
  {
   "cell_type": "code",
   "execution_count": 22,
   "metadata": {},
   "outputs": [
    {
     "name": "stdout",
     "output_type": "stream",
     "text": [
      "torch.Size([1, 2, 8, 8])\n"
     ]
    },
    {
     "data": {
      "text/plain": [
       "torch.Size([1, 2, 5, 5])"
      ]
     },
     "execution_count": 22,
     "metadata": {},
     "output_type": "execute_result"
    }
   ],
   "source": [
    "import torch \n",
    "from torch import nn\n",
    "\n",
    "def comp_conv2d(conv2d, x):\n",
    "    x = torch.reshape(x,(1,1)+x.shape)\n",
    "    y = conv2d(x)\n",
    "    # print(y.shape)\n",
    "    return y\n",
    "\n",
    "conv2d = nn.Conv2d(in_channels=1, out_channels=2, kernel_size=3, padding=1, stride=1)\n",
    "print(comp_conv2d(conv2d, torch.rand(8, 8)).shape)\n",
    "conv2d_stride=nn.Conv2d(in_channels=1, out_channels=2, kernel_size=1, padding=1, stride=2)\n",
    "comp_conv2d(conv2d_stride, torch.rand(8, 8)).shape"
   ]
  }
 ],
 "metadata": {
  "kernelspec": {
   "display_name": "py38",
   "language": "python",
   "name": "python3"
  },
  "language_info": {
   "codemirror_mode": {
    "name": "ipython",
    "version": 3
   },
   "file_extension": ".py",
   "mimetype": "text/x-python",
   "name": "python",
   "nbconvert_exporter": "python",
   "pygments_lexer": "ipython3",
   "version": "3.8.18"
  }
 },
 "nbformat": 4,
 "nbformat_minor": 2
}
